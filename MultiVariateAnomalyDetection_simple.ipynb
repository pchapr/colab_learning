{
 "cells": [
  {
   "cell_type": "code",
   "execution_count": 1,
   "id": "a56df20e",
   "metadata": {},
   "outputs": [],
   "source": [
    "import logging\n",
    "import datetime\n",
    "\n",
    "import pandas as pd\n",
    "import numpy as np\n",
    "\n",
    "import matplotlib.pyplot as plt\n",
    "\n",
    "from sklearn.model_selection import train_test_split\n",
    "from sklearn.preprocessing import StandardScaler, OneHotEncoder\n",
    "from sklearn.metrics import mean_squared_error, precision_recall_curve, auc\n",
    "import tensorflow as tf\n",
    "from tensorflow.keras.callbacks import TensorBoard, EarlyStopping\n",
    "from tensorflow.keras.models import Model\n",
    "from tensorflow.keras.layers import Input, LSTM, Dense, Flatten, RepeatVector, TimeDistributed, Dropout, Embedding, Concatenate\n",
    "from tensorflow.keras.optimizers import Adam\n",
    "\n",
    "# import tensorboard \n"
   ]
  },
  {
   "cell_type": "code",
   "execution_count": 17,
   "id": "6f26e10a",
   "metadata": {},
   "outputs": [],
   "source": [
    "filepath = 'data/financial_anomaly_data.csv'\n",
    "\n",
    "try:\n",
    "    fin_data_df = pd.read_csv(filepath, parse_dates=['Timestamp'])\n",
    "    logging.info(f\"Data loaded successfully from {filepath}\")\n",
    "except FileNotFoundError:   \n",
    "    logging.error(f\"File not found: {filepath}\")\n",
    "    exit()"
   ]
  },
  {
   "cell_type": "code",
   "execution_count": 18,
   "id": "33eac76e",
   "metadata": {},
   "outputs": [
    {
     "data": {
      "text/plain": [
       "pandas._libs.tslibs.timestamps.Timestamp"
      ]
     },
     "execution_count": 18,
     "metadata": {},
     "output_type": "execute_result"
    }
   ],
   "source": [
    "#convert string to timestamp\n",
    "fin_data_df['Timestamp'] = pd.to_datetime(fin_data_df['Timestamp'], format='%d-%m-%Y %H:%M')\n",
    "type(fin_data_df['Timestamp'][0])"
   ]
  },
  {
   "cell_type": "code",
   "execution_count": 19,
   "id": "9950d4b1",
   "metadata": {},
   "outputs": [],
   "source": [
    "# 2. Add time-based features. Convert Timestamp to datetime and extract features\n",
    "fin_data_df['hour'] = fin_data_df['Timestamp'].dt.hour\n",
    "fin_data_df['dayofweek'] = fin_data_df['Timestamp'].dt.dayofweek\n",
    "fin_data_df['dayofmonth'] = fin_data_df['Timestamp'].dt.day\n",
    "fin_data_df['month'] = fin_data_df['Timestamp'].dt.month\n",
    "\n"
   ]
  },
  {
   "cell_type": "code",
   "execution_count": 20,
   "id": "c7232461",
   "metadata": {},
   "outputs": [
    {
     "name": "stdout",
     "output_type": "stream",
     "text": [
      "<class 'pandas.core.frame.DataFrame'>\n",
      "RangeIndex: 217441 entries, 0 to 217440\n",
      "Data columns (total 11 columns):\n",
      " #   Column           Non-Null Count   Dtype         \n",
      "---  ------           --------------   -----         \n",
      " 0   Timestamp        216960 non-null  datetime64[ns]\n",
      " 1   TransactionID    216960 non-null  object        \n",
      " 2   AccountID        216960 non-null  object        \n",
      " 3   Amount           216960 non-null  float64       \n",
      " 4   Merchant         216960 non-null  object        \n",
      " 5   TransactionType  216960 non-null  object        \n",
      " 6   Location         216960 non-null  object        \n",
      " 7   hour             216960 non-null  float64       \n",
      " 8   dayofweek        216960 non-null  float64       \n",
      " 9   dayofmonth       216960 non-null  float64       \n",
      " 10  month            216960 non-null  float64       \n",
      "dtypes: datetime64[ns](1), float64(5), object(5)\n",
      "memory usage: 18.2+ MB\n",
      "None\n",
      "Timestamp          481\n",
      "TransactionID      481\n",
      "AccountID          481\n",
      "Amount             481\n",
      "Merchant           481\n",
      "TransactionType    481\n",
      "Location           481\n",
      "hour               481\n",
      "dayofweek          481\n",
      "dayofmonth         481\n",
      "month              481\n",
      "dtype: int64\n",
      "       Timestamp TransactionID AccountID  Amount Merchant TransactionType  \\\n",
      "216960       NaT           NaN       NaN     NaN      NaN             NaN   \n",
      "216961       NaT           NaN       NaN     NaN      NaN             NaN   \n",
      "216962       NaT           NaN       NaN     NaN      NaN             NaN   \n",
      "216963       NaT           NaN       NaN     NaN      NaN             NaN   \n",
      "216964       NaT           NaN       NaN     NaN      NaN             NaN   \n",
      "...          ...           ...       ...     ...      ...             ...   \n",
      "217436       NaT           NaN       NaN     NaN      NaN             NaN   \n",
      "217437       NaT           NaN       NaN     NaN      NaN             NaN   \n",
      "217438       NaT           NaN       NaN     NaN      NaN             NaN   \n",
      "217439       NaT           NaN       NaN     NaN      NaN             NaN   \n",
      "217440       NaT           NaN       NaN     NaN      NaN             NaN   \n",
      "\n",
      "       Location  hour  dayofweek  dayofmonth  month  \n",
      "216960      NaN   NaN        NaN         NaN    NaN  \n",
      "216961      NaN   NaN        NaN         NaN    NaN  \n",
      "216962      NaN   NaN        NaN         NaN    NaN  \n",
      "216963      NaN   NaN        NaN         NaN    NaN  \n",
      "216964      NaN   NaN        NaN         NaN    NaN  \n",
      "...         ...   ...        ...         ...    ...  \n",
      "217436      NaN   NaN        NaN         NaN    NaN  \n",
      "217437      NaN   NaN        NaN         NaN    NaN  \n",
      "217438      NaN   NaN        NaN         NaN    NaN  \n",
      "217439      NaN   NaN        NaN         NaN    NaN  \n",
      "217440      NaN   NaN        NaN         NaN    NaN  \n",
      "\n",
      "[481 rows x 11 columns]\n",
      "<class 'pandas.core.frame.DataFrame'>\n",
      "Index: 216960 entries, 0 to 216959\n",
      "Data columns (total 11 columns):\n",
      " #   Column           Non-Null Count   Dtype         \n",
      "---  ------           --------------   -----         \n",
      " 0   Timestamp        216960 non-null  datetime64[ns]\n",
      " 1   TransactionID    216960 non-null  object        \n",
      " 2   AccountID        216960 non-null  object        \n",
      " 3   Amount           216960 non-null  float64       \n",
      " 4   Merchant         216960 non-null  object        \n",
      " 5   TransactionType  216960 non-null  object        \n",
      " 6   Location         216960 non-null  object        \n",
      " 7   hour             216960 non-null  float64       \n",
      " 8   dayofweek        216960 non-null  float64       \n",
      " 9   dayofmonth       216960 non-null  float64       \n",
      " 10  month            216960 non-null  float64       \n",
      "dtypes: datetime64[ns](1), float64(5), object(5)\n",
      "memory usage: 19.9+ MB\n",
      "None\n",
      "Timestamp          0\n",
      "TransactionID      0\n",
      "AccountID          0\n",
      "Amount             0\n",
      "Merchant           0\n",
      "TransactionType    0\n",
      "Location           0\n",
      "hour               0\n",
      "dayofweek          0\n",
      "dayofmonth         0\n",
      "month              0\n",
      "dtype: int64\n"
     ]
    }
   ],
   "source": [
    "print(fin_data_df.info())\n",
    "print(fin_data_df.isnull().sum())\n",
    "nan_rows = fin_data_df[fin_data_df.isna().any(axis=1)]\n",
    "print(nan_rows)\n",
    "fin_data_df = fin_data_df.dropna()\n",
    "print(fin_data_df.info())\n",
    "print(fin_data_df.isnull().sum())"
   ]
  },
  {
   "cell_type": "code",
   "execution_count": 32,
   "id": "abbb1002",
   "metadata": {},
   "outputs": [],
   "source": [
    "categorical_features = ['Merchant', 'TransactionType', 'Location', 'hour', 'dayofweek', 'dayofmonth', 'month'] # added time features\n",
    "numerical_features = ['Amount']\n",
    "identifier_features = ['AccountID_encoded'] "
   ]
  },
  {
   "cell_type": "code",
   "execution_count": 22,
   "id": "76f5e68f",
   "metadata": {},
   "outputs": [
    {
     "name": "stdout",
     "output_type": "stream",
     "text": [
      "Unique values in Merchant: 10\n",
      "Unique values in TransactionType: 3\n",
      "Unique values in Location: 5\n",
      "Unique values in hour: 24\n",
      "Unique values in dayofweek: 7\n",
      "Unique values in dayofmonth: 31\n",
      "Unique values in month: 5\n",
      "Value counts in Merchant:\n",
      "Merchant\n",
      "MerchantF    21924\n",
      "MerchantG    21891\n",
      "MerchantD    21820\n",
      "MerchantB    21766\n",
      "MerchantI    21752\n",
      "MerchantA    21699\n",
      "MerchantJ    21654\n",
      "MerchantE    21543\n",
      "MerchantH    21518\n",
      "MerchantC    21393\n",
      "Name: count, dtype: int64\n",
      "\n",
      "Value counts in TransactionType:\n",
      "TransactionType\n",
      "Transfer      72793\n",
      "Purchase      72235\n",
      "Withdrawal    71932\n",
      "Name: count, dtype: int64\n",
      "\n",
      "Value counts in Location:\n",
      "Location\n",
      "San Francisco    43613\n",
      "New York         43378\n",
      "London           43343\n",
      "Los Angeles      43335\n",
      "Tokyo            43291\n",
      "Name: count, dtype: int64\n",
      "\n",
      "Value counts in hour:\n",
      "hour\n",
      "8.0     9060\n",
      "9.0     9060\n",
      "10.0    9060\n",
      "11.0    9060\n",
      "12.0    9060\n",
      "13.0    9060\n",
      "14.0    9060\n",
      "15.0    9060\n",
      "16.0    9060\n",
      "17.0    9060\n",
      "18.0    9060\n",
      "19.0    9060\n",
      "20.0    9060\n",
      "21.0    9060\n",
      "22.0    9060\n",
      "23.0    9060\n",
      "0.0     9000\n",
      "1.0     9000\n",
      "2.0     9000\n",
      "3.0     9000\n",
      "4.0     9000\n",
      "5.0     9000\n",
      "6.0     9000\n",
      "7.0     9000\n",
      "Name: count, dtype: int64\n",
      "\n",
      "Value counts in dayofweek:\n",
      "dayofweek\n",
      "0.0    31680\n",
      "1.0    31680\n",
      "2.0    31680\n",
      "6.0    31200\n",
      "3.0    30240\n",
      "4.0    30240\n",
      "5.0    30240\n",
      "Name: count, dtype: int64\n",
      "\n",
      "Value counts in dayofmonth:\n",
      "dayofmonth\n",
      "2.0     7200\n",
      "3.0     7200\n",
      "4.0     7200\n",
      "6.0     7200\n",
      "5.0     7200\n",
      "7.0     7200\n",
      "8.0     7200\n",
      "12.0    7200\n",
      "9.0     7200\n",
      "10.0    7200\n",
      "11.0    7200\n",
      "14.0    7200\n",
      "13.0    7200\n",
      "15.0    7200\n",
      "16.0    7200\n",
      "24.0    7200\n",
      "17.0    7200\n",
      "18.0    7200\n",
      "19.0    7200\n",
      "20.0    7200\n",
      "21.0    7200\n",
      "22.0    7200\n",
      "23.0    7200\n",
      "28.0    7200\n",
      "25.0    7200\n",
      "26.0    7200\n",
      "27.0    7200\n",
      "1.0     6720\n",
      "29.0    5760\n",
      "30.0    5760\n",
      "31.0    4320\n",
      "Name: count, dtype: int64\n",
      "\n",
      "Value counts in month:\n",
      "month\n",
      "3.0    44640\n",
      "5.0    44640\n",
      "1.0    44160\n",
      "4.0    43200\n",
      "2.0    40320\n",
      "Name: count, dtype: int64\n",
      "\n"
     ]
    }
   ],
   "source": [
    "#For each categorical feature, check the number of unique values\n",
    "for feature in categorical_features:\n",
    "    unique_values = fin_data_df[feature].nunique()\n",
    "    print(f\"Unique values in {feature}: {unique_values}\")\n",
    "#For each categorical feature, for each unique value, count the number of occurrences\n",
    "for feature in categorical_features:\n",
    "    value_counts = fin_data_df[feature].value_counts()\n",
    "    print(f\"Value counts in {feature}:\\n{value_counts}\\n\")\n"
   ]
  },
  {
   "cell_type": "code",
   "execution_count": 23,
   "id": "9f1f4ef0",
   "metadata": {},
   "outputs": [
    {
     "name": "stdout",
     "output_type": "stream",
     "text": [
      "<class 'pandas.core.frame.DataFrame'>\n",
      "Index: 216960 entries, 0 to 216959\n",
      "Data columns (total 12 columns):\n",
      " #   Column             Non-Null Count   Dtype         \n",
      "---  ------             --------------   -----         \n",
      " 0   Timestamp          216960 non-null  datetime64[ns]\n",
      " 1   TransactionID      216960 non-null  object        \n",
      " 2   AccountID          216960 non-null  object        \n",
      " 3   Amount             216960 non-null  float64       \n",
      " 4   Merchant           216960 non-null  object        \n",
      " 5   TransactionType    216960 non-null  object        \n",
      " 6   Location           216960 non-null  object        \n",
      " 7   hour               216960 non-null  float64       \n",
      " 8   dayofweek          216960 non-null  float64       \n",
      " 9   dayofmonth         216960 non-null  float64       \n",
      " 10  month              216960 non-null  float64       \n",
      " 11  AccountID_encoded  216960 non-null  int8          \n",
      "dtypes: datetime64[ns](1), float64(5), int8(1), object(5)\n",
      "memory usage: 20.1+ MB\n"
     ]
    }
   ],
   "source": [
    "# Encoding AccountID\n",
    "fin_data_df['AccountID_encoded'] = fin_data_df['AccountID'].astype('category').cat.codes\n",
    "fin_data_df.info()"
   ]
  },
  {
   "cell_type": "code",
   "execution_count": 24,
   "id": "a8e4a0e7",
   "metadata": {},
   "outputs": [
    {
     "name": "stdout",
     "output_type": "stream",
     "text": [
      "<class 'pandas.core.frame.DataFrame'>\n",
      "Index: 216960 entries, 0 to 216959\n",
      "Data columns (total 9 columns):\n",
      " #   Column             Non-Null Count   Dtype  \n",
      "---  ------             --------------   -----  \n",
      " 0   Amount             216960 non-null  float64\n",
      " 1   Merchant           216960 non-null  object \n",
      " 2   TransactionType    216960 non-null  object \n",
      " 3   Location           216960 non-null  object \n",
      " 4   hour               216960 non-null  float64\n",
      " 5   dayofweek          216960 non-null  float64\n",
      " 6   dayofmonth         216960 non-null  float64\n",
      " 7   month              216960 non-null  float64\n",
      " 8   AccountID_encoded  216960 non-null  int8   \n",
      "dtypes: float64(5), int8(1), object(3)\n",
      "memory usage: 15.1+ MB\n"
     ]
    }
   ],
   "source": [
    "fin_data_df = fin_data_df.drop(columns=['TransactionID', 'Timestamp', 'AccountID'], errors='ignore')\n",
    "fin_data_df.info()"
   ]
  },
  {
   "cell_type": "code",
   "execution_count": 25,
   "id": "b58ea8e4",
   "metadata": {},
   "outputs": [],
   "source": [
    "from sklearn.preprocessing import StandardScaler, OneHotEncoder\n",
    "from sklearn.compose import ColumnTransformer\n",
    "\n",
    "preprocessor = ColumnTransformer(\n",
    "    transformers=[\n",
    "        ('num', StandardScaler(), numerical_features),\n",
    "        ('cat', OneHotEncoder(handle_unknown='ignore', sparse_output=False), categorical_features)\n",
    "    ],\n",
    "    remainder='passthrough'  # Keep  AccountID\n",
    ")\n"
   ]
  },
  {
   "cell_type": "code",
   "execution_count": 26,
   "id": "306a899b",
   "metadata": {},
   "outputs": [],
   "source": [
    "# Fit and transform the data\n",
    "processed_data = preprocessor.fit_transform(fin_data_df)"
   ]
  },
  {
   "cell_type": "code",
   "execution_count": 31,
   "id": "2ccbfdae",
   "metadata": {},
   "outputs": [
    {
     "name": "stdout",
     "output_type": "stream",
     "text": [
      "float64\n",
      "(216960, 87)\n"
     ]
    }
   ],
   "source": [
    "print(processed_data.dtype)\n",
    "print(processed_data.shape)"
   ]
  },
  {
   "cell_type": "code",
   "execution_count": 28,
   "id": "c1af5e00",
   "metadata": {},
   "outputs": [
    {
     "data": {
      "text/plain": [
       "Amount                95071.92\n",
       "Merchant             MerchantH\n",
       "TransactionType       Purchase\n",
       "Location                 Tokyo\n",
       "hour                       8.0\n",
       "dayofweek                  6.0\n",
       "dayofmonth                 1.0\n",
       "month                      1.0\n",
       "AccountID_encoded            9\n",
       "Name: 0, dtype: object"
      ]
     },
     "execution_count": 28,
     "metadata": {},
     "output_type": "execute_result"
    }
   ],
   "source": [
    "fin_data_df.iloc[0]"
   ]
  },
  {
   "cell_type": "code",
   "execution_count": 33,
   "id": "2269cc6e",
   "metadata": {},
   "outputs": [
    {
     "data": {
      "text/plain": [
       "87"
      ]
     },
     "execution_count": 33,
     "metadata": {},
     "output_type": "execute_result"
    }
   ],
   "source": [
    "feature_names = numerical_features + list(preprocessor.named_transformers_['cat'].get_feature_names_out(categorical_features)) + identifier_features\n",
    "len(feature_names)"
   ]
  },
  {
   "cell_type": "code",
   "execution_count": 34,
   "id": "05312ae5",
   "metadata": {},
   "outputs": [
    {
     "name": "stdout",
     "output_type": "stream",
     "text": [
      "float64\n",
      "<class 'pandas.core.frame.DataFrame'>\n",
      "RangeIndex: 216960 entries, 0 to 216959\n",
      "Data columns (total 87 columns):\n",
      " #   Column                      Non-Null Count   Dtype  \n",
      "---  ------                      --------------   -----  \n",
      " 0   Amount                      216960 non-null  float64\n",
      " 1   Merchant_MerchantA          216960 non-null  float64\n",
      " 2   Merchant_MerchantB          216960 non-null  float64\n",
      " 3   Merchant_MerchantC          216960 non-null  float64\n",
      " 4   Merchant_MerchantD          216960 non-null  float64\n",
      " 5   Merchant_MerchantE          216960 non-null  float64\n",
      " 6   Merchant_MerchantF          216960 non-null  float64\n",
      " 7   Merchant_MerchantG          216960 non-null  float64\n",
      " 8   Merchant_MerchantH          216960 non-null  float64\n",
      " 9   Merchant_MerchantI          216960 non-null  float64\n",
      " 10  Merchant_MerchantJ          216960 non-null  float64\n",
      " 11  TransactionType_Purchase    216960 non-null  float64\n",
      " 12  TransactionType_Transfer    216960 non-null  float64\n",
      " 13  TransactionType_Withdrawal  216960 non-null  float64\n",
      " 14  Location_London             216960 non-null  float64\n",
      " 15  Location_Los Angeles        216960 non-null  float64\n",
      " 16  Location_New York           216960 non-null  float64\n",
      " 17  Location_San Francisco      216960 non-null  float64\n",
      " 18  Location_Tokyo              216960 non-null  float64\n",
      " 19  hour_0.0                    216960 non-null  float64\n",
      " 20  hour_1.0                    216960 non-null  float64\n",
      " 21  hour_2.0                    216960 non-null  float64\n",
      " 22  hour_3.0                    216960 non-null  float64\n",
      " 23  hour_4.0                    216960 non-null  float64\n",
      " 24  hour_5.0                    216960 non-null  float64\n",
      " 25  hour_6.0                    216960 non-null  float64\n",
      " 26  hour_7.0                    216960 non-null  float64\n",
      " 27  hour_8.0                    216960 non-null  float64\n",
      " 28  hour_9.0                    216960 non-null  float64\n",
      " 29  hour_10.0                   216960 non-null  float64\n",
      " 30  hour_11.0                   216960 non-null  float64\n",
      " 31  hour_12.0                   216960 non-null  float64\n",
      " 32  hour_13.0                   216960 non-null  float64\n",
      " 33  hour_14.0                   216960 non-null  float64\n",
      " 34  hour_15.0                   216960 non-null  float64\n",
      " 35  hour_16.0                   216960 non-null  float64\n",
      " 36  hour_17.0                   216960 non-null  float64\n",
      " 37  hour_18.0                   216960 non-null  float64\n",
      " 38  hour_19.0                   216960 non-null  float64\n",
      " 39  hour_20.0                   216960 non-null  float64\n",
      " 40  hour_21.0                   216960 non-null  float64\n",
      " 41  hour_22.0                   216960 non-null  float64\n",
      " 42  hour_23.0                   216960 non-null  float64\n",
      " 43  dayofweek_0.0               216960 non-null  float64\n",
      " 44  dayofweek_1.0               216960 non-null  float64\n",
      " 45  dayofweek_2.0               216960 non-null  float64\n",
      " 46  dayofweek_3.0               216960 non-null  float64\n",
      " 47  dayofweek_4.0               216960 non-null  float64\n",
      " 48  dayofweek_5.0               216960 non-null  float64\n",
      " 49  dayofweek_6.0               216960 non-null  float64\n",
      " 50  dayofmonth_1.0              216960 non-null  float64\n",
      " 51  dayofmonth_2.0              216960 non-null  float64\n",
      " 52  dayofmonth_3.0              216960 non-null  float64\n",
      " 53  dayofmonth_4.0              216960 non-null  float64\n",
      " 54  dayofmonth_5.0              216960 non-null  float64\n",
      " 55  dayofmonth_6.0              216960 non-null  float64\n",
      " 56  dayofmonth_7.0              216960 non-null  float64\n",
      " 57  dayofmonth_8.0              216960 non-null  float64\n",
      " 58  dayofmonth_9.0              216960 non-null  float64\n",
      " 59  dayofmonth_10.0             216960 non-null  float64\n",
      " 60  dayofmonth_11.0             216960 non-null  float64\n",
      " 61  dayofmonth_12.0             216960 non-null  float64\n",
      " 62  dayofmonth_13.0             216960 non-null  float64\n",
      " 63  dayofmonth_14.0             216960 non-null  float64\n",
      " 64  dayofmonth_15.0             216960 non-null  float64\n",
      " 65  dayofmonth_16.0             216960 non-null  float64\n",
      " 66  dayofmonth_17.0             216960 non-null  float64\n",
      " 67  dayofmonth_18.0             216960 non-null  float64\n",
      " 68  dayofmonth_19.0             216960 non-null  float64\n",
      " 69  dayofmonth_20.0             216960 non-null  float64\n",
      " 70  dayofmonth_21.0             216960 non-null  float64\n",
      " 71  dayofmonth_22.0             216960 non-null  float64\n",
      " 72  dayofmonth_23.0             216960 non-null  float64\n",
      " 73  dayofmonth_24.0             216960 non-null  float64\n",
      " 74  dayofmonth_25.0             216960 non-null  float64\n",
      " 75  dayofmonth_26.0             216960 non-null  float64\n",
      " 76  dayofmonth_27.0             216960 non-null  float64\n",
      " 77  dayofmonth_28.0             216960 non-null  float64\n",
      " 78  dayofmonth_29.0             216960 non-null  float64\n",
      " 79  dayofmonth_30.0             216960 non-null  float64\n",
      " 80  dayofmonth_31.0             216960 non-null  float64\n",
      " 81  month_1.0                   216960 non-null  float64\n",
      " 82  month_2.0                   216960 non-null  float64\n",
      " 83  month_3.0                   216960 non-null  float64\n",
      " 84  month_4.0                   216960 non-null  float64\n",
      " 85  month_5.0                   216960 non-null  float64\n",
      " 86  AccountID_encoded           216960 non-null  float64\n",
      "dtypes: float64(87)\n",
      "memory usage: 144.0 MB\n"
     ]
    }
   ],
   "source": [
    "print(processed_data.dtype)\n",
    "processed_df = pd.DataFrame(processed_data, columns=feature_names)\n",
    "processed_df.info()"
   ]
  },
  {
   "cell_type": "code",
   "execution_count": null,
   "id": "7f7ff5bc",
   "metadata": {},
   "outputs": [],
   "source": [
    "processed_df.groupby('AccountID')"
   ]
  },
  {
   "cell_type": "code",
   "execution_count": 35,
   "id": "0194d96f",
   "metadata": {},
   "outputs": [],
   "source": [
    "# 5. Prepare data for LSTM\n",
    "def create_sequences(df, sequence_length, account_id_col='AccountID'):\n",
    "    \"\"\"\n",
    "    Groups data by AccountID, creates sequences, and returns data and corresponding AccountID sequences.\n",
    "\n",
    "    Args:\n",
    "        df: DataFrame with time series data, must include AccountID.\n",
    "        sequence_length: Length of the sequences.\n",
    "        account_id_col: Name of the column containing Account IDs.\n",
    "\n",
    "    Returns:\n",
    "        A tuple of (data_sequences, account_id_sequences).\n",
    "        - data_sequences: NumPy array of shape (num_sequences, sequence_length, num_features).\n",
    "        - account_id_sequences: NumPy array of shape (num_sequences,).\n",
    "    \"\"\"\n",
    "    account_groups = df.groupby(account_id_col)\n",
    "    data_sequences = []\n",
    "    account_id_sequences = []\n",
    "    all_account_ids_encoded = []  # To store encoded Account IDs #CHANGED\n",
    "    for account_id, group in account_groups:\n",
    "        account_data = group.sort_index()  # Sort by time, assuming df index is time-ordered\n",
    "        group = group.drop(account_id_col, axis=1, errors='ignore') # Drop AccountID before converting to values\n",
    "        num_features = group.shape[1]\n",
    "        account_ids = account_data[account_id_col].values[sequence_length-1:]  # Get AccountIDs for the last transaction in each sequence\n",
    "        account_ids_encoded = df['AccountID_encoded'][account_data.index[sequence_length-1:]].values # Get encoded IDs #CHANGED\n",
    "        for i in range(len(account_data) - sequence_length):\n",
    "            sequence = group.iloc[i:i + sequence_length].values  # Exclude AccountID\n",
    "            data_sequences.append(sequence)\n",
    "            account_id_sequences.append(account_ids[i])\n",
    "            all_account_ids_encoded.append(account_ids_encoded[i]) #CHANGED\n",
    "        \n",
    "    return np.array(data_sequences), np.array(account_id_sequences), np.array(all_account_ids_encoded) #CHANGED\n"
   ]
  },
  {
   "cell_type": "code",
   "execution_count": 36,
   "id": "e205368f",
   "metadata": {},
   "outputs": [],
   "source": [
    "sequence_length = 24  # Example sequence length\n",
    "data_sequences, account_id_sequences, all_account_ids = create_sequences(processed_df, sequence_length, account_id_col='AccountID_encoded') #CHANGED"
   ]
  },
  {
   "cell_type": "code",
   "execution_count": 37,
   "id": "6ed90387",
   "metadata": {},
   "outputs": [
    {
     "data": {
      "text/plain": [
       "(216600, 24, 86)"
      ]
     },
     "execution_count": 37,
     "metadata": {},
     "output_type": "execute_result"
    }
   ],
   "source": [
    "data_sequences.shape"
   ]
  },
  {
   "cell_type": "code",
   "execution_count": 38,
   "id": "9803c599",
   "metadata": {},
   "outputs": [
    {
     "data": {
      "text/plain": [
       "15"
      ]
     },
     "execution_count": 38,
     "metadata": {},
     "output_type": "execute_result"
    }
   ],
   "source": [
    "# Determine vocabulary size for AccountID embedding\n",
    "num_unique_accounts = processed_df['AccountID_encoded'].nunique()\n",
    "num_unique_accounts"
   ]
  },
  {
   "cell_type": "code",
   "execution_count": 39,
   "id": "7b618461",
   "metadata": {},
   "outputs": [],
   "source": [
    "# 6. Split data into training and testing sets, ensuring no account overlap\n",
    "unique_account_ids = np.unique(account_id_sequences)\n",
    "train_accounts, test_accounts = train_test_split(unique_account_ids, test_size=0.2, random_state=42)"
   ]
  },
  {
   "cell_type": "code",
   "execution_count": 40,
   "id": "14c14aa2",
   "metadata": {},
   "outputs": [],
   "source": [
    "train_indices = np.isin(account_id_sequences, train_accounts)\n",
    "test_indices = np.isin(account_id_sequences, test_accounts)\n",
    "X_train, y_train_account = data_sequences[train_indices], account_id_sequences[train_indices]\n",
    "X_test, y_test_account = data_sequences[test_indices], account_id_sequences[test_indices]\n"
   ]
  },
  {
   "cell_type": "code",
   "execution_count": 41,
   "id": "6b5cb9b5",
   "metadata": {},
   "outputs": [
    {
     "name": "stdout",
     "output_type": "stream",
     "text": [
      "Train & test indices shapes: (216600,), (216600,)\n",
      "process df shape: (216960,)\n"
     ]
    }
   ],
   "source": [
    "print(f\"Train & test indices shapes: {train_indices.shape}, {test_indices.shape}\")\n",
    "print(f\"process df shape: {processed_df['AccountID_encoded'].values.shape}\")"
   ]
  },
  {
   "cell_type": "code",
   "execution_count": 42,
   "id": "afea2b20",
   "metadata": {},
   "outputs": [],
   "source": [
    "# Prepare separate AccountID input for the embedding layer\n",
    "X_train_account_encoded = all_account_ids[train_indices] #CHANGED\n",
    "X_test_account_encoded = all_account_ids[test_indices] #CHANGED"
   ]
  },
  {
   "cell_type": "code",
   "execution_count": 43,
   "id": "c0a74cd5",
   "metadata": {},
   "outputs": [
    {
     "name": "stdout",
     "output_type": "stream",
     "text": [
      "(173499,) (43101,)\n",
      "<class 'numpy.ndarray'> float64\n",
      "<class 'numpy.ndarray'> float64\n"
     ]
    }
   ],
   "source": [
    "print(X_train_account_encoded.shape, X_test_account_encoded.shape)\n",
    "X_train_account_encoded\n",
    "print(type(X_train), X_train.dtype)\n",
    "print(type(X_train_account_encoded), X_train_account_encoded.dtype)"
   ]
  },
  {
   "cell_type": "code",
   "execution_count": null,
   "id": "cd1271b3",
   "metadata": {},
   "outputs": [
    {
     "name": "stdout",
     "output_type": "stream",
     "text": [
      "Number of features: 86\n",
      "Input shape: (None, 24, 86)\n",
      "Account input shape: (None, 1)\n",
      "Embedding layer shape: (None, 1, 64)\n",
      "Flattened embedding shape: (None, 64)\n",
      "Repeated embedding shape: (None, 24, 64)\n",
      "Merged input shape: (None, 24, 150)\n"
     ]
    },
    {
     "data": {
      "text/html": [
       "<pre style=\"white-space:pre;overflow-x:auto;line-height:normal;font-family:Menlo,'DejaVu Sans Mono',consolas,'Courier New',monospace\"><span style=\"font-weight: bold\">Model: \"functional\"</span>\n",
       "</pre>\n"
      ],
      "text/plain": [
       "\u001b[1mModel: \"functional\"\u001b[0m\n"
      ]
     },
     "metadata": {},
     "output_type": "display_data"
    },
    {
     "data": {
      "text/html": [
       "<pre style=\"white-space:pre;overflow-x:auto;line-height:normal;font-family:Menlo,'DejaVu Sans Mono',consolas,'Courier New',monospace\">┏━━━━━━━━━━━━━━━━━━━━━┳━━━━━━━━━━━━━━━━━━━┳━━━━━━━━━━━━┳━━━━━━━━━━━━━━━━━━━┓\n",
       "┃<span style=\"font-weight: bold\"> Layer (type)        </span>┃<span style=\"font-weight: bold\"> Output Shape      </span>┃<span style=\"font-weight: bold\">    Param # </span>┃<span style=\"font-weight: bold\"> Connected to      </span>┃\n",
       "┡━━━━━━━━━━━━━━━━━━━━━╇━━━━━━━━━━━━━━━━━━━╇━━━━━━━━━━━━╇━━━━━━━━━━━━━━━━━━━┩\n",
       "│ account_input       │ (<span style=\"color: #00d7ff; text-decoration-color: #00d7ff\">None</span>, <span style=\"color: #00af00; text-decoration-color: #00af00\">1</span>)         │          <span style=\"color: #00af00; text-decoration-color: #00af00\">0</span> │ -                 │\n",
       "│ (<span style=\"color: #0087ff; text-decoration-color: #0087ff\">InputLayer</span>)        │                   │            │                   │\n",
       "├─────────────────────┼───────────────────┼────────────┼───────────────────┤\n",
       "│ embedding           │ (<span style=\"color: #00d7ff; text-decoration-color: #00d7ff\">None</span>, <span style=\"color: #00af00; text-decoration-color: #00af00\">1</span>, <span style=\"color: #00af00; text-decoration-color: #00af00\">64</span>)     │        <span style=\"color: #00af00; text-decoration-color: #00af00\">960</span> │ account_input[<span style=\"color: #00af00; text-decoration-color: #00af00\">0</span>]… │\n",
       "│ (<span style=\"color: #0087ff; text-decoration-color: #0087ff\">Embedding</span>)         │                   │            │                   │\n",
       "├─────────────────────┼───────────────────┼────────────┼───────────────────┤\n",
       "│ flatten (<span style=\"color: #0087ff; text-decoration-color: #0087ff\">Flatten</span>)   │ (<span style=\"color: #00d7ff; text-decoration-color: #00d7ff\">None</span>, <span style=\"color: #00af00; text-decoration-color: #00af00\">64</span>)        │          <span style=\"color: #00af00; text-decoration-color: #00af00\">0</span> │ embedding[<span style=\"color: #00af00; text-decoration-color: #00af00\">0</span>][<span style=\"color: #00af00; text-decoration-color: #00af00\">0</span>]   │\n",
       "├─────────────────────┼───────────────────┼────────────┼───────────────────┤\n",
       "│ input_layer         │ (<span style=\"color: #00d7ff; text-decoration-color: #00d7ff\">None</span>, <span style=\"color: #00af00; text-decoration-color: #00af00\">24</span>, <span style=\"color: #00af00; text-decoration-color: #00af00\">86</span>)    │          <span style=\"color: #00af00; text-decoration-color: #00af00\">0</span> │ -                 │\n",
       "│ (<span style=\"color: #0087ff; text-decoration-color: #0087ff\">InputLayer</span>)        │                   │            │                   │\n",
       "├─────────────────────┼───────────────────┼────────────┼───────────────────┤\n",
       "│ repeat_vector       │ (<span style=\"color: #00d7ff; text-decoration-color: #00d7ff\">None</span>, <span style=\"color: #00af00; text-decoration-color: #00af00\">24</span>, <span style=\"color: #00af00; text-decoration-color: #00af00\">64</span>)    │          <span style=\"color: #00af00; text-decoration-color: #00af00\">0</span> │ flatten[<span style=\"color: #00af00; text-decoration-color: #00af00\">0</span>][<span style=\"color: #00af00; text-decoration-color: #00af00\">0</span>]     │\n",
       "│ (<span style=\"color: #0087ff; text-decoration-color: #0087ff\">RepeatVector</span>)      │                   │            │                   │\n",
       "├─────────────────────┼───────────────────┼────────────┼───────────────────┤\n",
       "│ concatenate         │ (<span style=\"color: #00d7ff; text-decoration-color: #00d7ff\">None</span>, <span style=\"color: #00af00; text-decoration-color: #00af00\">24</span>, <span style=\"color: #00af00; text-decoration-color: #00af00\">150</span>)   │          <span style=\"color: #00af00; text-decoration-color: #00af00\">0</span> │ input_layer[<span style=\"color: #00af00; text-decoration-color: #00af00\">0</span>][<span style=\"color: #00af00; text-decoration-color: #00af00\">0</span>… │\n",
       "│ (<span style=\"color: #0087ff; text-decoration-color: #0087ff\">Concatenate</span>)       │                   │            │ repeat_vector[<span style=\"color: #00af00; text-decoration-color: #00af00\">0</span>]… │\n",
       "├─────────────────────┼───────────────────┼────────────┼───────────────────┤\n",
       "│ lstm (<span style=\"color: #0087ff; text-decoration-color: #0087ff\">LSTM</span>)         │ (<span style=\"color: #00d7ff; text-decoration-color: #00d7ff\">None</span>, <span style=\"color: #00af00; text-decoration-color: #00af00\">128</span>)       │    <span style=\"color: #00af00; text-decoration-color: #00af00\">142,848</span> │ concatenate[<span style=\"color: #00af00; text-decoration-color: #00af00\">0</span>][<span style=\"color: #00af00; text-decoration-color: #00af00\">0</span>] │\n",
       "├─────────────────────┼───────────────────┼────────────┼───────────────────┤\n",
       "│ dropout (<span style=\"color: #0087ff; text-decoration-color: #0087ff\">Dropout</span>)   │ (<span style=\"color: #00d7ff; text-decoration-color: #00d7ff\">None</span>, <span style=\"color: #00af00; text-decoration-color: #00af00\">128</span>)       │          <span style=\"color: #00af00; text-decoration-color: #00af00\">0</span> │ lstm[<span style=\"color: #00af00; text-decoration-color: #00af00\">0</span>][<span style=\"color: #00af00; text-decoration-color: #00af00\">0</span>]        │\n",
       "├─────────────────────┼───────────────────┼────────────┼───────────────────┤\n",
       "│ dense (<span style=\"color: #0087ff; text-decoration-color: #0087ff\">Dense</span>)       │ (<span style=\"color: #00d7ff; text-decoration-color: #00d7ff\">None</span>, <span style=\"color: #00af00; text-decoration-color: #00af00\">64</span>)        │      <span style=\"color: #00af00; text-decoration-color: #00af00\">8,256</span> │ dropout[<span style=\"color: #00af00; text-decoration-color: #00af00\">0</span>][<span style=\"color: #00af00; text-decoration-color: #00af00\">0</span>]     │\n",
       "├─────────────────────┼───────────────────┼────────────┼───────────────────┤\n",
       "│ repeat_vector_1     │ (<span style=\"color: #00d7ff; text-decoration-color: #00d7ff\">None</span>, <span style=\"color: #00af00; text-decoration-color: #00af00\">24</span>, <span style=\"color: #00af00; text-decoration-color: #00af00\">64</span>)    │          <span style=\"color: #00af00; text-decoration-color: #00af00\">0</span> │ dense[<span style=\"color: #00af00; text-decoration-color: #00af00\">0</span>][<span style=\"color: #00af00; text-decoration-color: #00af00\">0</span>]       │\n",
       "│ (<span style=\"color: #0087ff; text-decoration-color: #0087ff\">RepeatVector</span>)      │                   │            │                   │\n",
       "├─────────────────────┼───────────────────┼────────────┼───────────────────┤\n",
       "│ lstm_1 (<span style=\"color: #0087ff; text-decoration-color: #0087ff\">LSTM</span>)       │ (<span style=\"color: #00d7ff; text-decoration-color: #00d7ff\">None</span>, <span style=\"color: #00af00; text-decoration-color: #00af00\">24</span>, <span style=\"color: #00af00; text-decoration-color: #00af00\">128</span>)   │     <span style=\"color: #00af00; text-decoration-color: #00af00\">98,816</span> │ repeat_vector_1[<span style=\"color: #00af00; text-decoration-color: #00af00\">…</span> │\n",
       "├─────────────────────┼───────────────────┼────────────┼───────────────────┤\n",
       "│ dropout_1 (<span style=\"color: #0087ff; text-decoration-color: #0087ff\">Dropout</span>) │ (<span style=\"color: #00d7ff; text-decoration-color: #00d7ff\">None</span>, <span style=\"color: #00af00; text-decoration-color: #00af00\">24</span>, <span style=\"color: #00af00; text-decoration-color: #00af00\">128</span>)   │          <span style=\"color: #00af00; text-decoration-color: #00af00\">0</span> │ lstm_1[<span style=\"color: #00af00; text-decoration-color: #00af00\">0</span>][<span style=\"color: #00af00; text-decoration-color: #00af00\">0</span>]      │\n",
       "├─────────────────────┼───────────────────┼────────────┼───────────────────┤\n",
       "│ time_distributed    │ (<span style=\"color: #00d7ff; text-decoration-color: #00d7ff\">None</span>, <span style=\"color: #00af00; text-decoration-color: #00af00\">24</span>, <span style=\"color: #00af00; text-decoration-color: #00af00\">86</span>)    │     <span style=\"color: #00af00; text-decoration-color: #00af00\">11,094</span> │ dropout_1[<span style=\"color: #00af00; text-decoration-color: #00af00\">0</span>][<span style=\"color: #00af00; text-decoration-color: #00af00\">0</span>]   │\n",
       "│ (<span style=\"color: #0087ff; text-decoration-color: #0087ff\">TimeDistributed</span>)   │                   │            │                   │\n",
       "└─────────────────────┴───────────────────┴────────────┴───────────────────┘\n",
       "</pre>\n"
      ],
      "text/plain": [
       "┏━━━━━━━━━━━━━━━━━━━━━┳━━━━━━━━━━━━━━━━━━━┳━━━━━━━━━━━━┳━━━━━━━━━━━━━━━━━━━┓\n",
       "┃\u001b[1m \u001b[0m\u001b[1mLayer (type)       \u001b[0m\u001b[1m \u001b[0m┃\u001b[1m \u001b[0m\u001b[1mOutput Shape     \u001b[0m\u001b[1m \u001b[0m┃\u001b[1m \u001b[0m\u001b[1m   Param #\u001b[0m\u001b[1m \u001b[0m┃\u001b[1m \u001b[0m\u001b[1mConnected to     \u001b[0m\u001b[1m \u001b[0m┃\n",
       "┡━━━━━━━━━━━━━━━━━━━━━╇━━━━━━━━━━━━━━━━━━━╇━━━━━━━━━━━━╇━━━━━━━━━━━━━━━━━━━┩\n",
       "│ account_input       │ (\u001b[38;5;45mNone\u001b[0m, \u001b[38;5;34m1\u001b[0m)         │          \u001b[38;5;34m0\u001b[0m │ -                 │\n",
       "│ (\u001b[38;5;33mInputLayer\u001b[0m)        │                   │            │                   │\n",
       "├─────────────────────┼───────────────────┼────────────┼───────────────────┤\n",
       "│ embedding           │ (\u001b[38;5;45mNone\u001b[0m, \u001b[38;5;34m1\u001b[0m, \u001b[38;5;34m64\u001b[0m)     │        \u001b[38;5;34m960\u001b[0m │ account_input[\u001b[38;5;34m0\u001b[0m]… │\n",
       "│ (\u001b[38;5;33mEmbedding\u001b[0m)         │                   │            │                   │\n",
       "├─────────────────────┼───────────────────┼────────────┼───────────────────┤\n",
       "│ flatten (\u001b[38;5;33mFlatten\u001b[0m)   │ (\u001b[38;5;45mNone\u001b[0m, \u001b[38;5;34m64\u001b[0m)        │          \u001b[38;5;34m0\u001b[0m │ embedding[\u001b[38;5;34m0\u001b[0m][\u001b[38;5;34m0\u001b[0m]   │\n",
       "├─────────────────────┼───────────────────┼────────────┼───────────────────┤\n",
       "│ input_layer         │ (\u001b[38;5;45mNone\u001b[0m, \u001b[38;5;34m24\u001b[0m, \u001b[38;5;34m86\u001b[0m)    │          \u001b[38;5;34m0\u001b[0m │ -                 │\n",
       "│ (\u001b[38;5;33mInputLayer\u001b[0m)        │                   │            │                   │\n",
       "├─────────────────────┼───────────────────┼────────────┼───────────────────┤\n",
       "│ repeat_vector       │ (\u001b[38;5;45mNone\u001b[0m, \u001b[38;5;34m24\u001b[0m, \u001b[38;5;34m64\u001b[0m)    │          \u001b[38;5;34m0\u001b[0m │ flatten[\u001b[38;5;34m0\u001b[0m][\u001b[38;5;34m0\u001b[0m]     │\n",
       "│ (\u001b[38;5;33mRepeatVector\u001b[0m)      │                   │            │                   │\n",
       "├─────────────────────┼───────────────────┼────────────┼───────────────────┤\n",
       "│ concatenate         │ (\u001b[38;5;45mNone\u001b[0m, \u001b[38;5;34m24\u001b[0m, \u001b[38;5;34m150\u001b[0m)   │          \u001b[38;5;34m0\u001b[0m │ input_layer[\u001b[38;5;34m0\u001b[0m][\u001b[38;5;34m0\u001b[0m… │\n",
       "│ (\u001b[38;5;33mConcatenate\u001b[0m)       │                   │            │ repeat_vector[\u001b[38;5;34m0\u001b[0m]… │\n",
       "├─────────────────────┼───────────────────┼────────────┼───────────────────┤\n",
       "│ lstm (\u001b[38;5;33mLSTM\u001b[0m)         │ (\u001b[38;5;45mNone\u001b[0m, \u001b[38;5;34m128\u001b[0m)       │    \u001b[38;5;34m142,848\u001b[0m │ concatenate[\u001b[38;5;34m0\u001b[0m][\u001b[38;5;34m0\u001b[0m] │\n",
       "├─────────────────────┼───────────────────┼────────────┼───────────────────┤\n",
       "│ dropout (\u001b[38;5;33mDropout\u001b[0m)   │ (\u001b[38;5;45mNone\u001b[0m, \u001b[38;5;34m128\u001b[0m)       │          \u001b[38;5;34m0\u001b[0m │ lstm[\u001b[38;5;34m0\u001b[0m][\u001b[38;5;34m0\u001b[0m]        │\n",
       "├─────────────────────┼───────────────────┼────────────┼───────────────────┤\n",
       "│ dense (\u001b[38;5;33mDense\u001b[0m)       │ (\u001b[38;5;45mNone\u001b[0m, \u001b[38;5;34m64\u001b[0m)        │      \u001b[38;5;34m8,256\u001b[0m │ dropout[\u001b[38;5;34m0\u001b[0m][\u001b[38;5;34m0\u001b[0m]     │\n",
       "├─────────────────────┼───────────────────┼────────────┼───────────────────┤\n",
       "│ repeat_vector_1     │ (\u001b[38;5;45mNone\u001b[0m, \u001b[38;5;34m24\u001b[0m, \u001b[38;5;34m64\u001b[0m)    │          \u001b[38;5;34m0\u001b[0m │ dense[\u001b[38;5;34m0\u001b[0m][\u001b[38;5;34m0\u001b[0m]       │\n",
       "│ (\u001b[38;5;33mRepeatVector\u001b[0m)      │                   │            │                   │\n",
       "├─────────────────────┼───────────────────┼────────────┼───────────────────┤\n",
       "│ lstm_1 (\u001b[38;5;33mLSTM\u001b[0m)       │ (\u001b[38;5;45mNone\u001b[0m, \u001b[38;5;34m24\u001b[0m, \u001b[38;5;34m128\u001b[0m)   │     \u001b[38;5;34m98,816\u001b[0m │ repeat_vector_1[\u001b[38;5;34m…\u001b[0m │\n",
       "├─────────────────────┼───────────────────┼────────────┼───────────────────┤\n",
       "│ dropout_1 (\u001b[38;5;33mDropout\u001b[0m) │ (\u001b[38;5;45mNone\u001b[0m, \u001b[38;5;34m24\u001b[0m, \u001b[38;5;34m128\u001b[0m)   │          \u001b[38;5;34m0\u001b[0m │ lstm_1[\u001b[38;5;34m0\u001b[0m][\u001b[38;5;34m0\u001b[0m]      │\n",
       "├─────────────────────┼───────────────────┼────────────┼───────────────────┤\n",
       "│ time_distributed    │ (\u001b[38;5;45mNone\u001b[0m, \u001b[38;5;34m24\u001b[0m, \u001b[38;5;34m86\u001b[0m)    │     \u001b[38;5;34m11,094\u001b[0m │ dropout_1[\u001b[38;5;34m0\u001b[0m][\u001b[38;5;34m0\u001b[0m]   │\n",
       "│ (\u001b[38;5;33mTimeDistributed\u001b[0m)   │                   │            │                   │\n",
       "└─────────────────────┴───────────────────┴────────────┴───────────────────┘\n"
      ]
     },
     "metadata": {},
     "output_type": "display_data"
    },
    {
     "data": {
      "text/html": [
       "<pre style=\"white-space:pre;overflow-x:auto;line-height:normal;font-family:Menlo,'DejaVu Sans Mono',consolas,'Courier New',monospace\"><span style=\"font-weight: bold\"> Total params: </span><span style=\"color: #00af00; text-decoration-color: #00af00\">261,974</span> (1023.34 KB)\n",
       "</pre>\n"
      ],
      "text/plain": [
       "\u001b[1m Total params: \u001b[0m\u001b[38;5;34m261,974\u001b[0m (1023.34 KB)\n"
      ]
     },
     "metadata": {},
     "output_type": "display_data"
    },
    {
     "data": {
      "text/html": [
       "<pre style=\"white-space:pre;overflow-x:auto;line-height:normal;font-family:Menlo,'DejaVu Sans Mono',consolas,'Courier New',monospace\"><span style=\"font-weight: bold\"> Trainable params: </span><span style=\"color: #00af00; text-decoration-color: #00af00\">261,974</span> (1023.34 KB)\n",
       "</pre>\n"
      ],
      "text/plain": [
       "\u001b[1m Trainable params: \u001b[0m\u001b[38;5;34m261,974\u001b[0m (1023.34 KB)\n"
      ]
     },
     "metadata": {},
     "output_type": "display_data"
    },
    {
     "data": {
      "text/html": [
       "<pre style=\"white-space:pre;overflow-x:auto;line-height:normal;font-family:Menlo,'DejaVu Sans Mono',consolas,'Courier New',monospace\"><span style=\"font-weight: bold\"> Non-trainable params: </span><span style=\"color: #00af00; text-decoration-color: #00af00\">0</span> (0.00 B)\n",
       "</pre>\n"
      ],
      "text/plain": [
       "\u001b[1m Non-trainable params: \u001b[0m\u001b[38;5;34m0\u001b[0m (0.00 B)\n"
      ]
     },
     "metadata": {},
     "output_type": "display_data"
    }
   ],
   "source": [
    "# 7. Build the LSTM Autoencoder Model with Embeddings\n",
    "embedding_dim = 64\n",
    "n_features = X_train.shape[2]\n",
    "\n",
    "print(f\"Number of features: {n_features}\")\n",
    "\n",
    "# Input layers\n",
    "input_data = Input(shape=(sequence_length, n_features), name='data_input')\n",
    "print(f\"Input shape: {input_data.shape}\")\n",
    "input_account = Input(shape=(1,), name='account_embedding_input')\n",
    "print(f\"Account input shape: {input_account.shape}\")\n",
    "\n",
    "# AccountID Embedding\n",
    "embedding_layer = Embedding(input_dim=num_unique_accounts, output_dim=embedding_dim, name='account_embedding')(input_account)\n",
    "print(f\"Embedding layer shape: {embedding_layer.shape}\")\n",
    "flatten_embedding = Flatten(name='account_embedding_flatten')(embedding_layer)\n",
    "print(f\"Flattened embedding shape: {flatten_embedding.shape}\")\n",
    "\n",
    "# Align shape with LSTM input (batch_size, sequence_length, embedding_dim). This will repeat the account id embedding across all the dimensions of the sequence length\n",
    "repeated_embedding = RepeatVector(name='account_embedding_repeated')(flatten_embedding)  # (batch_size, sequence_length, embedding_dim)\n",
    "print(f\"Repeated embedding shape: {repeated_embedding.shape}\")\n",
    "\n",
    "# Concatenate data features and account embedding\n",
    "merged_input = Concatenate(axis=-1, name='merged_input')( [input_data, repeated_embedding])  # Shape should be (None, sequence_length, n_features + embedding_dim)\n",
    "print(f\"Merged input shape: {merged_input.shape}\")\n",
    "\n",
    "# Encoder\n",
    "lstm1 = LSTM(128, activation='relu', name='encoder_lstm1')(merged_input)\n",
    "dropout1 = Dropout(0.2, name='encoder_dropout1')(lstm1)\n",
    "encoded = Dense(64, activation='relu', name='encoder_output')(dropout1)\n",
    "\n",
    "# Decoder\n",
    "repeated_encoded = RepeatVector(name='decoder_repeat_vector')(encoded) # Added RepeatVector\n",
    "lstm2 = LSTM(128, activation='relu', return_sequences=True, name='decoder_lstm2')(repeated_encoded)\n",
    "dropout2 = Dropout(0.2, name='decoder_dropout2')(lstm2)\n",
    "decoded_output = TimeDistributed(Dense(n_features, name='timedist_decoder_output'))(dropout2)\n",
    "\n",
    "# Autoencoder model\n",
    "autoencoder = Model(inputs=[input_data, input_account], outputs=decoded_output)\n",
    "autoencoder.compile(optimizer='adam', loss='mse')\n",
    "autoencoder.summary()"
   ]
  },
  {
   "cell_type": "code",
   "execution_count": 49,
   "id": "b448a70b",
   "metadata": {},
   "outputs": [],
   "source": [
    "# 8. Train the Model\n",
    "epochs = 10\n",
    "batch_size = 64\n",
    "\n",
    "# Define early stopping callback\n",
    "early_stopping = EarlyStopping(\n",
    "    monitor='val_loss',  # Monitor validation loss\n",
    "    patience=5,         # Stop after 5 epochs of no improvement\n",
    "    restore_best_weights=True,  # Restore the best weights\n",
    "    verbose=1\n",
    ")\n",
    "\n",
    "# Include tensorboard callback\n",
    "log_dir = \"logs/fit/\" + datetime.datetime.now().strftime(\"%Y%m%d-%H%M%S\")\n",
    "tensorboard_callback = TensorBoard(log_dir=log_dir, histogram_freq=1, write_graph=True)"
   ]
  },
  {
   "cell_type": "code",
   "execution_count": 50,
   "id": "24eb317f",
   "metadata": {},
   "outputs": [
    {
     "name": "stdout",
     "output_type": "stream",
     "text": [
      "(173499, 24, 86) (43101, 24, 86)\n",
      "(173499,) (43101,)\n",
      "float64 float64\n"
     ]
    }
   ],
   "source": [
    "print(X_train.shape, X_test.shape)                 # Should be (num_samples, sequence_length, num_features)\n",
    "print(X_train_account_encoded.shape, X_test_account_encoded.shape) # Should be (num_samples, 1)\n",
    "print(X_train_account_encoded.dtype, X_test_account_encoded.dtype) # Should be int32 or int64"
   ]
  },
  {
   "cell_type": "code",
   "execution_count": null,
   "id": "305d54fa",
   "metadata": {},
   "outputs": [
    {
     "name": "stdout",
     "output_type": "stream",
     "text": [
      "Epoch 1/10\n",
      "\u001b[1m2711/2711\u001b[0m \u001b[32m━━━━━━━━━━━━━━━━━━━━\u001b[0m\u001b[37m\u001b[0m \u001b[1m145s\u001b[0m 53ms/step - loss: 0.0489 - val_loss: 0.0447\n",
      "Epoch 2/10\n",
      "\u001b[1m2711/2711\u001b[0m \u001b[32m━━━━━━━━━━━━━━━━━━━━\u001b[0m\u001b[37m\u001b[0m \u001b[1m126s\u001b[0m 47ms/step - loss: 0.0488 - val_loss: 0.0446\n",
      "Epoch 3/10\n",
      "\u001b[1m2711/2711\u001b[0m \u001b[32m━━━━━━━━━━━━━━━━━━━━\u001b[0m\u001b[37m\u001b[0m \u001b[1m114s\u001b[0m 42ms/step - loss: 0.0487 - val_loss: 0.0443\n",
      "Epoch 4/10\n",
      "\u001b[1m2711/2711\u001b[0m \u001b[32m━━━━━━━━━━━━━━━━━━━━\u001b[0m\u001b[37m\u001b[0m \u001b[1m109s\u001b[0m 40ms/step - loss: 0.0485 - val_loss: 0.0442\n",
      "Epoch 5/10\n",
      "\u001b[1m2711/2711\u001b[0m \u001b[32m━━━━━━━━━━━━━━━━━━━━\u001b[0m\u001b[37m\u001b[0m \u001b[1m107s\u001b[0m 40ms/step - loss: 0.0483 - val_loss: 0.0441\n",
      "Epoch 6/10\n",
      "\u001b[1m2711/2711\u001b[0m \u001b[32m━━━━━━━━━━━━━━━━━━━━\u001b[0m\u001b[37m\u001b[0m \u001b[1m113s\u001b[0m 42ms/step - loss: 0.0483 - val_loss: 0.0438\n",
      "Epoch 7/10\n",
      "\u001b[1m2711/2711\u001b[0m \u001b[32m━━━━━━━━━━━━━━━━━━━━\u001b[0m\u001b[37m\u001b[0m \u001b[1m106s\u001b[0m 39ms/step - loss: 0.0481 - val_loss: 0.0435\n",
      "Epoch 8/10\n",
      "\u001b[1m1648/2711\u001b[0m \u001b[32m━━━━━━━━━━━━\u001b[0m\u001b[37m━━━━━━━━\u001b[0m \u001b[1m39s\u001b[0m 37ms/step - loss: 0.0480"
     ]
    }
   ],
   "source": [
    "history = autoencoder.fit(\n",
    "    [X_train, X_train_account_encoded],  # List of inputs\n",
    "    X_train,                             # Target is the same as input (autoencoder)\n",
    "    epochs=epochs,\n",
    "    batch_size=batch_size,\n",
    "    validation_data=([X_test, X_test_account_encoded], X_test),\n",
    "    callbacks=[early_stopping, tensorboard_callback],\n",
    "    verbose=1\n",
    ")"
   ]
  },
  {
   "cell_type": "code",
   "execution_count": null,
   "id": "6d99a118",
   "metadata": {},
   "outputs": [],
   "source": [
    "from tensorflow.keras.utils import plot_model\n",
    "plot_model(autoencoder, to_file='model_architecture.png', show_shapes=True, show_layer_names=True)"
   ]
  },
  {
   "cell_type": "code",
   "execution_count": null,
   "id": "b7a9c92c",
   "metadata": {},
   "outputs": [],
   "source": [
    "! pip install shap\n",
    "import shap\n",
    "\n",
    "explainer = shap.DeepExplainer(model, background_data)  # background_data is a representative sample\n",
    "shap_values = explainer.shap_values(X_test)\n",
    "\n",
    "# Visualize summary plot for features (aggregate over time steps)\n",
    "shap.summary_plot(shap_values, features=X_test)\n"
   ]
  },
  {
   "cell_type": "code",
   "execution_count": null,
   "id": "a007a905",
   "metadata": {},
   "outputs": [],
   "source": [
    "fin_data_df.head()"
   ]
  },
  {
   "cell_type": "code",
   "execution_count": null,
   "id": "cc41edec",
   "metadata": {},
   "outputs": [],
   "source": [
    "fin_data_df.plot(y='Amount', kind='line', figsize=(15, 5), title='Transaction Amount Over Time')"
   ]
  },
  {
   "cell_type": "code",
   "execution_count": null,
   "id": "cf7ed09e",
   "metadata": {},
   "outputs": [],
   "source": [
    "fin_data_df.info()"
   ]
  }
 ],
 "metadata": {
  "kernelspec": {
   "display_name": ".venv",
   "language": "python",
   "name": "python3"
  },
  "language_info": {
   "codemirror_mode": {
    "name": "ipython",
    "version": 3
   },
   "file_extension": ".py",
   "mimetype": "text/x-python",
   "name": "python",
   "nbconvert_exporter": "python",
   "pygments_lexer": "ipython3",
   "version": "3.11.4"
  }
 },
 "nbformat": 4,
 "nbformat_minor": 5
}
